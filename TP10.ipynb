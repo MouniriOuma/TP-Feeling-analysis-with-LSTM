{
 "cells": [
  {
   "cell_type": "markdown",
   "id": "d8a53024-0c5c-48ed-8cef-e9b4c9f7ff97",
   "metadata": {},
   "source": [
    "1. Importation des bibliothèques"
   ]
  },
  {
   "cell_type": "code",
   "execution_count": 3,
   "id": "c185e35d-0b24-4484-9629-e8615bb5e70b",
   "metadata": {},
   "outputs": [],
   "source": [
    "import pandas as pd\n",
    "import numpy as np\n",
    "from sklearn.model_selection import train_test_split\n",
    "import matplotlib.pyplot as plt"
   ]
  },
  {
   "cell_type": "code",
   "execution_count": 5,
   "id": "bda00d1b-ecab-411f-b844-8e7360ce9bd6",
   "metadata": {},
   "outputs": [],
   "source": [
    "# Charger le dataset\n",
    "dataset_path = \"sentiment100k.csv\"\n",
    "data = pd.read_csv(dataset_path, header=None)"
   ]
  },
  {
   "cell_type": "code",
   "execution_count": 7,
   "id": "8850f45a-634e-4a0d-a511-d4d1cad1e78e",
   "metadata": {},
   "outputs": [],
   "source": [
    "# Renommer les colonnes pour faciliter l'accès\n",
    "data.columns = [\"polarity\", \"id\", \"date\", \"query\", \"user\", \"text\"]\n",
    "\n",
    "# Garder uniquement les colonnes nécessaires\n",
    "data = data[[\"polarity\", \"text\"]]\n",
    "\n",
    "# Convertir les labels : 0 (négatif) et 4 (positif) -> 0 et 1\n",
    "data.loc[:, \"polarity\"] = data[\"polarity\"].replace({4: 1})\n",
    "\n",
    "# Nettoyer les doublons et les valeurs manquantes\n",
    "data = data.drop_duplicates()\n",
    "data = data.dropna()\n"
   ]
  },
  {
   "cell_type": "code",
   "execution_count": 9,
   "id": "af5046f9-9cc1-46f7-96f5-1ef2c463ea89",
   "metadata": {},
   "outputs": [
    {
     "name": "stdout",
     "output_type": "stream",
     "text": [
      "   polarity                                               text\n",
      "0         0  @switchfoot http://twitpic.com/2y1zl - Awww, t...\n",
      "1         0  is upset that he can't update his Facebook by ...\n",
      "2         0  @Kenichan I dived many times for the ball. Man...\n",
      "3         0    my whole body feels itchy and like its on fire \n",
      "4         0  @nationwideclass no, it's not behaving at all....\n"
     ]
    }
   ],
   "source": [
    "# Vérifier les données\n",
    "print(data.head())"
   ]
  },
  {
   "cell_type": "markdown",
   "id": "d2242dc0-aa43-4df6-a5d6-50e91b3cda8e",
   "metadata": {},
   "source": [
    "2. Prétraitement des Textes"
   ]
  },
  {
   "cell_type": "code",
   "execution_count": 12,
   "id": "2c2170c4-923e-4c4e-a254-dd63d1120b37",
   "metadata": {},
   "outputs": [],
   "source": [
    "import re"
   ]
  },
  {
   "cell_type": "code",
   "execution_count": 14,
   "id": "8b89c722-4555-4f37-8215-53f18310b66b",
   "metadata": {},
   "outputs": [
    {
     "name": "stderr",
     "output_type": "stream",
     "text": [
      "[nltk_data] Downloading package stopwords to\n",
      "[nltk_data]     C:\\Users\\Mouma\\AppData\\Roaming\\nltk_data...\n",
      "[nltk_data]   Package stopwords is already up-to-date!\n"
     ]
    }
   ],
   "source": [
    "import nltk\n",
    "from nltk.corpus import stopwords\n",
    "nltk.download('stopwords')\n",
    "\n",
    "# Charger les stop words en anglais\n",
    "stop_words = set(stopwords.words('english'))"
   ]
  },
  {
   "cell_type": "code",
   "execution_count": 16,
   "id": "65eaab1c-4b1e-4d92-8b05-89d7fb1ea1ee",
   "metadata": {},
   "outputs": [],
   "source": [
    "def clean_text(text):\n",
    "    text = text.lower()\n",
    "    text = re.sub(r\"http\\S+|www\\S+|https\\S+\", '', text)\n",
    "    text = re.sub(r\"[^a-zA-Z\\s]\", '', text)\n",
    "    text = re.sub(r\"\\s+\", ' ', text).strip()\n",
    "    text = re.sub(r'\\@w+|\\#', '', text)\n",
    "    words = text.split()\n",
    "    filtered_words = [word for word in words if word not in stop_words]\n",
    "    return ' '.join(filtered_words)"
   ]
  },
  {
   "cell_type": "code",
   "execution_count": 18,
   "id": "54001cf6-1b5f-45f8-b029-a8eb1b8ffee6",
   "metadata": {},
   "outputs": [],
   "source": [
    "# Appliquer le nettoyage aux tweets\n",
    "data[\"text\"] = data[\"text\"].apply(clean_text)"
   ]
  },
  {
   "cell_type": "code",
   "execution_count": 19,
   "id": "5546161c-8d74-4936-bbe7-daadbd173509",
   "metadata": {},
   "outputs": [
    {
     "name": "stdout",
     "output_type": "stream",
     "text": [
      "   polarity                                               text\n",
      "0         0  switchfoot thats bummer shoulda got david carr...\n",
      "1         0  upset cant update facebook texting might cry r...\n",
      "2         0  kenichan dived many times ball managed save re...\n",
      "3         0                   whole body feels itchy like fire\n",
      "4         0           nationwideclass behaving im mad cant see\n"
     ]
    }
   ],
   "source": [
    "# Vérifier les modifications\n",
    "print(data.head())"
   ]
  },
  {
   "cell_type": "markdown",
   "id": "a62cf208-e311-44e8-87ab-657db073121b",
   "metadata": {},
   "source": [
    "3. Tokenisation et Padding"
   ]
  },
  {
   "cell_type": "code",
   "execution_count": 23,
   "id": "088f68d9-2406-4954-9413-0940b927f94f",
   "metadata": {},
   "outputs": [],
   "source": [
    "from tensorflow.keras.preprocessing.text import Tokenizer\n",
    "from tensorflow.keras.preprocessing.sequence import pad_sequences"
   ]
  },
  {
   "cell_type": "code",
   "execution_count": 25,
   "id": "55f1dbcc-c446-438d-b126-bddf40896773",
   "metadata": {},
   "outputs": [],
   "source": [
    "# Paramètres de tokenisation\n",
    "max_words = 5000  # Nombre maximal de mots dans le vocabulaire\n",
    "max_len = 50  # Longueur maximale des séquences\n",
    "\n",
    "# Initialiser le tokenizer\n",
    "tokenizer = Tokenizer(num_words=max_words, oov_token=\"<OOV>\")\n",
    "tokenizer.fit_on_texts(data[\"text\"])"
   ]
  },
  {
   "cell_type": "code",
   "execution_count": 27,
   "id": "d035dd57-a4cc-4ccd-9bb5-0639d5056cfc",
   "metadata": {},
   "outputs": [],
   "source": [
    "# Convertir le texte en séquences\n",
    "sequences = tokenizer.texts_to_sequences(data[\"text\"])"
   ]
  },
  {
   "cell_type": "code",
   "execution_count": 29,
   "id": "3a841cbd-1ad9-4e16-a9a9-c2c2e719350d",
   "metadata": {},
   "outputs": [],
   "source": [
    "# Appliquer le padding\n",
    "padded_sequences = pad_sequences(sequences, maxlen=max_len, padding=\"post\", truncating=\"post\")"
   ]
  },
  {
   "cell_type": "code",
   "execution_count": 31,
   "id": "90bf65ed-33f4-4f5c-8d87-0a159dc41a1d",
   "metadata": {},
   "outputs": [
    {
     "name": "stdout",
     "output_type": "stream",
     "text": [
      "[[   1   44 1215 3781   15  660    1 1884    4    0    0    0    0    0\n",
      "     0    0    0    0    0    0    0    0    0    0    0    0    0    0\n",
      "     0    0    0    0    0    0    0    0    0    0    0    0    0    0\n",
      "     0    0    0    0    0    0    0    0]\n",
      " [ 663   12  488  407 2206  208  472 1966   64    9  170 1020    0    0\n",
      "     0    0    0    0    0    0    0    0    0    0    0    0    0    0\n",
      "     0    0    0    0    0    0    0    0    0    0    0    0    0    0\n",
      "     0    0    0    0    0    0    0    0]\n",
      " [   1    1  204  259 1460 1483  732  345    7    1    0    0    0    0\n",
      "     0    0    0    0    0    0    0    0    0    0    0    0    0    0\n",
      "     0    0    0    0    0    0    0    0    0    0    0    0    0    0\n",
      "     0    0    0    0    0    0    0    0]\n",
      " [ 317  689  340 2602    6 1027    0    0    0    0    0    0    0    0\n",
      "     0    0    0    0    0    0    0    0    0    0    0    0    0    0\n",
      "     0    0    0    0    0    0    0    0    0    0    0    0    0    0\n",
      "     0    0    0    0    0    0    0    0]\n",
      " [   1    1    2  571   12   23    0    0    0    0    0    0    0    0\n",
      "     0    0    0    0    0    0    0    0    0    0    0    0    0    0\n",
      "     0    0    0    0    0    0    0    0    0    0    0    0    0    0\n",
      "     0    0    0    0    0    0    0    0]]\n"
     ]
    }
   ],
   "source": [
    "# Vérification\n",
    "print(padded_sequences[:5])"
   ]
  },
  {
   "cell_type": "markdown",
   "id": "ef168415-50c5-4a4c-857c-eda1368d1716",
   "metadata": {},
   "source": [
    "4. Séparation des Données"
   ]
  },
  {
   "cell_type": "code",
   "execution_count": 34,
   "id": "5c0e0166-4a19-445b-9006-78ad3eef3909",
   "metadata": {},
   "outputs": [],
   "source": [
    "from tensorflow.keras.models import Sequential\n",
    "from tensorflow.keras.layers import Embedding, LSTM, Dense"
   ]
  },
  {
   "cell_type": "code",
   "execution_count": 50,
   "id": "c95ee922-5d89-4b61-9849-0fb267319a74",
   "metadata": {},
   "outputs": [],
   "source": [
    "# Diviser les données\n",
    "X_train, X_test, y_train, y_test = train_test_split(padded_sequences, data[\"polarity\"].values, test_size=0.2, random_state=42)"
   ]
  },
  {
   "cell_type": "code",
   "execution_count": 63,
   "id": "08fdcb73-d8e5-48c5-844e-9e4ada0b141a",
   "metadata": {},
   "outputs": [
    {
     "name": "stdout",
     "output_type": "stream",
     "text": [
      "0         0\n",
      "1         0\n",
      "2         0\n",
      "3         0\n",
      "4         0\n",
      "         ..\n",
      "199995    1\n",
      "199996    1\n",
      "199997    1\n",
      "199998    1\n",
      "199999    1\n",
      "Name: polarity, Length: 198671, dtype: int64\n"
     ]
    }
   ],
   "source": [
    "print(data[\"polarity\"])"
   ]
  },
  {
   "cell_type": "markdown",
   "id": "278b5de0-0118-4319-80eb-124e73b652cc",
   "metadata": {},
   "source": [
    "Construction du Modèle"
   ]
  },
  {
   "cell_type": "code",
   "execution_count": 65,
   "id": "93429423-c5b0-4036-b596-24a67cf06e69",
   "metadata": {},
   "outputs": [
    {
     "name": "stdout",
     "output_type": "stream",
     "text": [
      "[0 0 0 ... 1 1 1]\n"
     ]
    }
   ],
   "source": [
    "print(data[\"polarity\"].values)"
   ]
  },
  {
   "cell_type": "code",
   "execution_count": 67,
   "id": "240c5970-5451-415b-8607-1ca24699dee7",
   "metadata": {},
   "outputs": [
    {
     "name": "stderr",
     "output_type": "stream",
     "text": [
      "C:\\Users\\Mouma\\anaconda3\\Lib\\site-packages\\keras\\src\\layers\\core\\embedding.py:90: UserWarning: Argument `input_length` is deprecated. Just remove it.\n",
      "  warnings.warn(\n"
     ]
    }
   ],
   "source": [
    "# Construction du modèle\n",
    "model = Sequential([\n",
    "    Embedding(input_dim=max_words, output_dim=64, input_length=50),\n",
    "    LSTM(64, return_sequences=False),\n",
    "    Dense(1, activation='sigmoid')\n",
    "])"
   ]
  },
  {
   "cell_type": "code",
   "execution_count": 68,
   "id": "40c48dba-a5f8-4010-bfaf-093c8cf4b63e",
   "metadata": {},
   "outputs": [],
   "source": [
    "# Compilation du modèle\n",
    "model.compile(optimizer='adam', loss='binary_crossentropy', metrics=['accuracy'])\n"
   ]
  },
  {
   "cell_type": "code",
   "execution_count": 71,
   "id": "b49ae8bf-c282-42b5-a3fb-3d91d44fe7ae",
   "metadata": {},
   "outputs": [
    {
     "data": {
      "text/html": [
       "<pre style=\"white-space:pre;overflow-x:auto;line-height:normal;font-family:Menlo,'DejaVu Sans Mono',consolas,'Courier New',monospace\"><span style=\"font-weight: bold\">Model: \"sequential_3\"</span>\n",
       "</pre>\n"
      ],
      "text/plain": [
       "\u001b[1mModel: \"sequential_3\"\u001b[0m\n"
      ]
     },
     "metadata": {},
     "output_type": "display_data"
    },
    {
     "data": {
      "text/html": [
       "<pre style=\"white-space:pre;overflow-x:auto;line-height:normal;font-family:Menlo,'DejaVu Sans Mono',consolas,'Courier New',monospace\">┏━━━━━━━━━━━━━━━━━━━━━━━━━━━━━━━━━┳━━━━━━━━━━━━━━━━━━━━━━━━┳━━━━━━━━━━━━━━━┓\n",
       "┃<span style=\"font-weight: bold\"> Layer (type)                    </span>┃<span style=\"font-weight: bold\"> Output Shape           </span>┃<span style=\"font-weight: bold\">       Param # </span>┃\n",
       "┡━━━━━━━━━━━━━━━━━━━━━━━━━━━━━━━━━╇━━━━━━━━━━━━━━━━━━━━━━━━╇━━━━━━━━━━━━━━━┩\n",
       "│ embedding_3 (<span style=\"color: #0087ff; text-decoration-color: #0087ff\">Embedding</span>)         │ ?                      │   <span style=\"color: #00af00; text-decoration-color: #00af00\">0</span> (unbuilt) │\n",
       "├─────────────────────────────────┼────────────────────────┼───────────────┤\n",
       "│ lstm_3 (<span style=\"color: #0087ff; text-decoration-color: #0087ff\">LSTM</span>)                   │ ?                      │   <span style=\"color: #00af00; text-decoration-color: #00af00\">0</span> (unbuilt) │\n",
       "├─────────────────────────────────┼────────────────────────┼───────────────┤\n",
       "│ dense_3 (<span style=\"color: #0087ff; text-decoration-color: #0087ff\">Dense</span>)                 │ ?                      │   <span style=\"color: #00af00; text-decoration-color: #00af00\">0</span> (unbuilt) │\n",
       "└─────────────────────────────────┴────────────────────────┴───────────────┘\n",
       "</pre>\n"
      ],
      "text/plain": [
       "┏━━━━━━━━━━━━━━━━━━━━━━━━━━━━━━━━━┳━━━━━━━━━━━━━━━━━━━━━━━━┳━━━━━━━━━━━━━━━┓\n",
       "┃\u001b[1m \u001b[0m\u001b[1mLayer (type)                   \u001b[0m\u001b[1m \u001b[0m┃\u001b[1m \u001b[0m\u001b[1mOutput Shape          \u001b[0m\u001b[1m \u001b[0m┃\u001b[1m \u001b[0m\u001b[1m      Param #\u001b[0m\u001b[1m \u001b[0m┃\n",
       "┡━━━━━━━━━━━━━━━━━━━━━━━━━━━━━━━━━╇━━━━━━━━━━━━━━━━━━━━━━━━╇━━━━━━━━━━━━━━━┩\n",
       "│ embedding_3 (\u001b[38;5;33mEmbedding\u001b[0m)         │ ?                      │   \u001b[38;5;34m0\u001b[0m (unbuilt) │\n",
       "├─────────────────────────────────┼────────────────────────┼───────────────┤\n",
       "│ lstm_3 (\u001b[38;5;33mLSTM\u001b[0m)                   │ ?                      │   \u001b[38;5;34m0\u001b[0m (unbuilt) │\n",
       "├─────────────────────────────────┼────────────────────────┼───────────────┤\n",
       "│ dense_3 (\u001b[38;5;33mDense\u001b[0m)                 │ ?                      │   \u001b[38;5;34m0\u001b[0m (unbuilt) │\n",
       "└─────────────────────────────────┴────────────────────────┴───────────────┘\n"
      ]
     },
     "metadata": {},
     "output_type": "display_data"
    },
    {
     "data": {
      "text/html": [
       "<pre style=\"white-space:pre;overflow-x:auto;line-height:normal;font-family:Menlo,'DejaVu Sans Mono',consolas,'Courier New',monospace\"><span style=\"font-weight: bold\"> Total params: </span><span style=\"color: #00af00; text-decoration-color: #00af00\">0</span> (0.00 B)\n",
       "</pre>\n"
      ],
      "text/plain": [
       "\u001b[1m Total params: \u001b[0m\u001b[38;5;34m0\u001b[0m (0.00 B)\n"
      ]
     },
     "metadata": {},
     "output_type": "display_data"
    },
    {
     "data": {
      "text/html": [
       "<pre style=\"white-space:pre;overflow-x:auto;line-height:normal;font-family:Menlo,'DejaVu Sans Mono',consolas,'Courier New',monospace\"><span style=\"font-weight: bold\"> Trainable params: </span><span style=\"color: #00af00; text-decoration-color: #00af00\">0</span> (0.00 B)\n",
       "</pre>\n"
      ],
      "text/plain": [
       "\u001b[1m Trainable params: \u001b[0m\u001b[38;5;34m0\u001b[0m (0.00 B)\n"
      ]
     },
     "metadata": {},
     "output_type": "display_data"
    },
    {
     "data": {
      "text/html": [
       "<pre style=\"white-space:pre;overflow-x:auto;line-height:normal;font-family:Menlo,'DejaVu Sans Mono',consolas,'Courier New',monospace\"><span style=\"font-weight: bold\"> Non-trainable params: </span><span style=\"color: #00af00; text-decoration-color: #00af00\">0</span> (0.00 B)\n",
       "</pre>\n"
      ],
      "text/plain": [
       "\u001b[1m Non-trainable params: \u001b[0m\u001b[38;5;34m0\u001b[0m (0.00 B)\n"
      ]
     },
     "metadata": {},
     "output_type": "display_data"
    }
   ],
   "source": [
    "# Résumé du modèle\n",
    "model.summary()"
   ]
  },
  {
   "cell_type": "markdown",
   "id": "c3b973c9-2d19-44e2-8d6d-06c8c5d03673",
   "metadata": {},
   "source": [
    "5. Entraînement et Évaluation du Modèle"
   ]
  },
  {
   "cell_type": "code",
   "execution_count": 74,
   "id": "e463002d-4e0f-411c-baf9-b02cc7711745",
   "metadata": {},
   "outputs": [],
   "source": [
    "from sklearn.metrics import classification_report"
   ]
  },
  {
   "cell_type": "code",
   "execution_count": 76,
   "id": "92f04074-a14f-4076-a401-0da2adeee923",
   "metadata": {},
   "outputs": [
    {
     "name": "stdout",
     "output_type": "stream",
     "text": [
      "Epoch 1/5\n",
      "\u001b[1m4967/4967\u001b[0m \u001b[32m━━━━━━━━━━━━━━━━━━━━\u001b[0m\u001b[37m\u001b[0m \u001b[1m249s\u001b[0m 45ms/step - accuracy: 0.5031 - loss: 0.6938 - val_accuracy: 0.4993 - val_loss: 0.6932\n",
      "Epoch 2/5\n",
      "\u001b[1m4967/4967\u001b[0m \u001b[32m━━━━━━━━━━━━━━━━━━━━\u001b[0m\u001b[37m\u001b[0m \u001b[1m142s\u001b[0m 29ms/step - accuracy: 0.5272 - loss: 0.6819 - val_accuracy: 0.7621 - val_loss: 0.4916\n",
      "Epoch 3/5\n",
      "\u001b[1m4967/4967\u001b[0m \u001b[32m━━━━━━━━━━━━━━━━━━━━\u001b[0m\u001b[37m\u001b[0m \u001b[1m126s\u001b[0m 25ms/step - accuracy: 0.7725 - loss: 0.4749 - val_accuracy: 0.7768 - val_loss: 0.4659\n",
      "Epoch 4/5\n",
      "\u001b[1m4967/4967\u001b[0m \u001b[32m━━━━━━━━━━━━━━━━━━━━\u001b[0m\u001b[37m\u001b[0m \u001b[1m130s\u001b[0m 26ms/step - accuracy: 0.7921 - loss: 0.4397 - val_accuracy: 0.7788 - val_loss: 0.4680\n",
      "Epoch 5/5\n",
      "\u001b[1m4967/4967\u001b[0m \u001b[32m━━━━━━━━━━━━━━━━━━━━\u001b[0m\u001b[37m\u001b[0m \u001b[1m150s\u001b[0m 30ms/step - accuracy: 0.8041 - loss: 0.4167 - val_accuracy: 0.7771 - val_loss: 0.4743\n"
     ]
    }
   ],
   "source": [
    "# Entraînement\n",
    "history = model.fit(X_train, y_train, epochs=5, validation_data=(X_test, y_test), batch_size=32, verbose=1)"
   ]
  },
  {
   "cell_type": "code",
   "execution_count": 78,
   "id": "66b0730b-a365-49a3-95bd-6dc9e61f58b3",
   "metadata": {},
   "outputs": [
    {
     "name": "stdout",
     "output_type": "stream",
     "text": [
      "\u001b[1m1242/1242\u001b[0m \u001b[32m━━━━━━━━━━━━━━━━━━━━\u001b[0m\u001b[37m\u001b[0m \u001b[1m13s\u001b[0m 10ms/step\n",
      "              precision    recall  f1-score   support\n",
      "\n",
      "           0       0.79      0.75      0.77     19895\n",
      "           1       0.76      0.81      0.78     19840\n",
      "\n",
      "    accuracy                           0.78     39735\n",
      "   macro avg       0.78      0.78      0.78     39735\n",
      "weighted avg       0.78      0.78      0.78     39735\n",
      "\n"
     ]
    }
   ],
   "source": [
    "# Évaluation des performances\n",
    "y_pred = (model.predict(X_test) > 0.5).astype(\"int32\")\n",
    "print(classification_report(y_test, y_pred))"
   ]
  },
  {
   "cell_type": "markdown",
   "id": "6e4c5805-1809-4aae-b199-4899a81c97ad",
   "metadata": {},
   "source": [
    "6. Prédiction de Sentiment pour de Nouveaux Tweets"
   ]
  },
  {
   "cell_type": "code",
   "execution_count": 81,
   "id": "a2c25983-184f-44d3-8f92-a716ec043907",
   "metadata": {},
   "outputs": [],
   "source": [
    "def predict_sentiment(model, tokenizer, text):\n",
    "    # Nettoyer le texte\n",
    "    cleaned_text = clean_text(text)\n",
    "    # Tokeniser et appliquer le padding\n",
    "    sequence = tokenizer.texts_to_sequences([cleaned_text])\n",
    "    padded_sequence = pad_sequences(sequence, maxlen=max_len, padding=\"post\", truncating=\"post\")\n",
    "    # Prédire le sentiment\n",
    "    prediction = model.predict(padded_sequence)\n",
    "    return \"Positive\" if prediction[0] > 0.5 else \"Negative\""
   ]
  },
  {
   "cell_type": "code",
   "execution_count": 83,
   "id": "c8efebb0-4a2d-4161-b97e-61a7d0c198ba",
   "metadata": {
    "scrolled": true
   },
   "outputs": [
    {
     "name": "stdout",
     "output_type": "stream",
     "text": [
      "\u001b[1m1/1\u001b[0m \u001b[32m━━━━━━━━━━━━━━━━━━━━\u001b[0m\u001b[37m\u001b[0m \u001b[1m0s\u001b[0m 83ms/step\n",
      "Positive\n"
     ]
    }
   ],
   "source": [
    "# Exemple d'utilisation\n",
    "tweet = \"I love this product! It's amazing.\"\n",
    "print(predict_sentiment(model, tokenizer, tweet))"
   ]
  },
  {
   "cell_type": "code",
   "execution_count": 87,
   "id": "fa1fbd75-1086-4586-a933-35e9f049da23",
   "metadata": {},
   "outputs": [
    {
     "name": "stdout",
     "output_type": "stream",
     "text": [
      "\u001b[1m1/1\u001b[0m \u001b[32m━━━━━━━━━━━━━━━━━━━━\u001b[0m\u001b[37m\u001b[0m \u001b[1m0s\u001b[0m 140ms/step\n",
      "Negative\n"
     ]
    }
   ],
   "source": [
    "# Exemple d'utilisation\n",
    "tweet = \"I hate this product! It's amazing.\"\n",
    "print(predict_sentiment(model, tokenizer, tweet))"
   ]
  },
  {
   "cell_type": "code",
   "execution_count": null,
   "id": "af5e50b0-b4b1-44a2-a6dc-afa94483b2e4",
   "metadata": {},
   "outputs": [],
   "source": []
  }
 ],
 "metadata": {
  "kernelspec": {
   "display_name": "Python 3 (ipykernel)",
   "language": "python",
   "name": "python3"
  },
  "language_info": {
   "codemirror_mode": {
    "name": "ipython",
    "version": 3
   },
   "file_extension": ".py",
   "mimetype": "text/x-python",
   "name": "python",
   "nbconvert_exporter": "python",
   "pygments_lexer": "ipython3",
   "version": "3.12.4"
  }
 },
 "nbformat": 4,
 "nbformat_minor": 5
}
